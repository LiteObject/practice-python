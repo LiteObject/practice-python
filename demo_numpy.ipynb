{
 "cells": [
  {
   "cell_type": "code",
   "execution_count": 57,
   "metadata": {},
   "outputs": [
    {
     "name": "stdout",
     "output_type": "stream",
     "text": [
      "Numpy Version: 1.25.2\n",
      "Shape: (3, 4)\n",
      "N Dimention: 2\n",
      "Size: 12\n",
      "Item Size: 1\n",
      "Data Type: int8\n"
     ]
    }
   ],
   "source": [
    "import numpy as np\n",
    "import matplotlib as mpl\n",
    "#import pandas as pd\n",
    "\n",
    "print(f\"Numpy Version: {np.__version__}\")\n",
    "\n",
    "arr = np.array([\n",
    "    [1, 2, 3, 0],\n",
    "    [4, 5, 6, 0],\n",
    "    [7, 8, 9, 0]], dtype=np.int8)\n",
    "\n",
    "print(f\"Shape: {arr.shape}\")\n",
    "print(f\"N Dimention: {arr.ndim}\")\n",
    "print(f\"Size: {arr.size}\")\n",
    "print(f\"Item Size: {arr.itemsize}\")\n",
    "print(f\"Data Type: {arr.dtype}\")"
   ]
  },
  {
   "cell_type": "code",
   "execution_count": 40,
   "metadata": {},
   "outputs": [
    {
     "name": "stdout",
     "output_type": "stream",
     "text": [
      "[0 2 4 6 8]\n",
      "[ 0  4  8 12 16]\n"
     ]
    }
   ],
   "source": [
    "a0 = np.array([1,2,3])\n",
    "a1 = np.arange(0, 10, 2)\n",
    "a2 = np.zeros(10)\n",
    "a3 = np.random.randint(0, 100, 10)\n",
    "a4 = np.ones(5)\n",
    "a5 = np.linspace(0, 100, 10, dtype=np.int8)\n",
    "\n",
    "print(a1)\n",
    "print(a1 * 2)"
   ]
  }
 ],
 "metadata": {
  "kernelspec": {
   "display_name": ".venv",
   "language": "python",
   "name": "python3"
  },
  "language_info": {
   "codemirror_mode": {
    "name": "ipython",
    "version": 3
   },
   "file_extension": ".py",
   "mimetype": "text/x-python",
   "name": "python",
   "nbconvert_exporter": "python",
   "pygments_lexer": "ipython3",
   "version": "3.11.6"
  },
  "orig_nbformat": 4
 },
 "nbformat": 4,
 "nbformat_minor": 2
}
